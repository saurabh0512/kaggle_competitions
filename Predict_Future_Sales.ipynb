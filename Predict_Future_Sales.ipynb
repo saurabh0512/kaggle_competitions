{
  "nbformat": 4,
  "nbformat_minor": 0,
  "metadata": {
    "colab": {
      "name": "Predict Future Sales.ipynb",
      "provenance": [],
      "collapsed_sections": [],
      "machine_shape": "hm",
      "include_colab_link": true
    },
    "kernelspec": {
      "name": "python3",
      "display_name": "Python 3"
    },
    "accelerator": "GPU"
  },
  "cells": [
    {
      "cell_type": "markdown",
      "metadata": {
        "id": "view-in-github",
        "colab_type": "text"
      },
      "source": [
        "<a href=\"https://colab.research.google.com/github/saurabh0512/kaggle_competitions/blob/master/Predict_Future_Sales.ipynb\" target=\"_parent\"><img src=\"https://colab.research.google.com/assets/colab-badge.svg\" alt=\"Open In Colab\"/></a>"
      ]
    },
    {
      "cell_type": "code",
      "metadata": {
        "id": "fwRvzaHCLnPE",
        "colab_type": "code",
        "outputId": "18805717-0d89-4367-ac03-79ce5304cf4a",
        "colab": {
          "base_uri": "https://localhost:8080/",
          "height": 224
        }
      },
      "source": [
        "!pip install kaggle\n",
        "!mkdir .kaggle"
      ],
      "execution_count": 0,
      "outputs": [
        {
          "output_type": "stream",
          "text": [
            "Requirement already satisfied: kaggle in /usr/local/lib/python3.6/dist-packages (1.5.6)\n",
            "Requirement already satisfied: six>=1.10 in /usr/local/lib/python3.6/dist-packages (from kaggle) (1.12.0)\n",
            "Requirement already satisfied: requests in /usr/local/lib/python3.6/dist-packages (from kaggle) (2.21.0)\n",
            "Requirement already satisfied: python-dateutil in /usr/local/lib/python3.6/dist-packages (from kaggle) (2.6.1)\n",
            "Requirement already satisfied: tqdm in /usr/local/lib/python3.6/dist-packages (from kaggle) (4.28.1)\n",
            "Requirement already satisfied: python-slugify in /usr/local/lib/python3.6/dist-packages (from kaggle) (4.0.0)\n",
            "Requirement already satisfied: certifi in /usr/local/lib/python3.6/dist-packages (from kaggle) (2019.11.28)\n",
            "Requirement already satisfied: urllib3<1.25,>=1.21.1 in /usr/local/lib/python3.6/dist-packages (from kaggle) (1.24.3)\n",
            "Requirement already satisfied: chardet<3.1.0,>=3.0.2 in /usr/local/lib/python3.6/dist-packages (from requests->kaggle) (3.0.4)\n",
            "Requirement already satisfied: idna<2.9,>=2.5 in /usr/local/lib/python3.6/dist-packages (from requests->kaggle) (2.8)\n",
            "Requirement already satisfied: text-unidecode>=1.3 in /usr/local/lib/python3.6/dist-packages (from python-slugify->kaggle) (1.3)\n"
          ],
          "name": "stdout"
        }
      ]
    },
    {
      "cell_type": "code",
      "metadata": {
        "id": "0uzLqxeBLw3_",
        "colab_type": "code",
        "colab": {}
      },
      "source": [
        "import json\n",
        "token = {\"username\":\"sigmafactor\",\"key\":\"41fab59f19122a724d4d978dbf1c0bd1\"}\n",
        "with open('/content/.kaggle/kaggle.json', 'w') as file:\n",
        "    json.dump(token, file)"
      ],
      "execution_count": 0,
      "outputs": []
    },
    {
      "cell_type": "code",
      "metadata": {
        "id": "4gHpJf7QL7z6",
        "colab_type": "code",
        "colab": {}
      },
      "source": [
        "!cp /content/.kaggle/kaggle.json ~/.kaggle/kaggle.json"
      ],
      "execution_count": 0,
      "outputs": []
    },
    {
      "cell_type": "code",
      "metadata": {
        "id": "7I-zskFvMEwH",
        "colab_type": "code",
        "outputId": "b1110fba-83e7-45a8-fa8b-3707231d47e6",
        "colab": {
          "base_uri": "https://localhost:8080/",
          "height": 377
        }
      },
      "source": [
        "!kaggle competitions download -c competitive-data-science-predict-future-sales"
      ],
      "execution_count": 0,
      "outputs": [
        {
          "output_type": "stream",
          "text": [
            "Warning: Your Kaggle API key is readable by other users on this system! To fix this, you can run 'chmod 600 /root/.kaggle/kaggle.json'\n",
            "Warning: Looks like you're using an outdated API Version, please consider updating (server 1.5.6 / client 1.5.4)\n",
            "Downloading sample_submission.csv.zip to /content\n",
            "  0% 0.00/468k [00:00<?, ?B/s]\n",
            "100% 468k/468k [00:00<00:00, 69.2MB/s]\n",
            "Downloading items.csv.zip to /content\n",
            "  0% 0.00/368k [00:00<?, ?B/s]\n",
            "100% 368k/368k [00:00<00:00, 121MB/s]\n",
            "Downloading test.csv.zip to /content\n",
            "  0% 0.00/1.02M [00:00<?, ?B/s]\n",
            "100% 1.02M/1.02M [00:00<00:00, 70.3MB/s]\n",
            "Downloading shops.csv to /content\n",
            "  0% 0.00/2.91k [00:00<?, ?B/s]\n",
            "100% 2.91k/2.91k [00:00<00:00, 2.98MB/s]\n",
            "Downloading sales_train.csv.zip to /content\n",
            " 68% 9.00M/13.3M [00:01<00:00, 7.24MB/s]\n",
            "100% 13.3M/13.3M [00:01<00:00, 8.87MB/s]\n",
            "Downloading item_categories.csv to /content\n",
            "  0% 0.00/3.49k [00:00<?, ?B/s]\n",
            "100% 3.49k/3.49k [00:00<00:00, 3.19MB/s]\n"
          ],
          "name": "stdout"
        }
      ]
    },
    {
      "cell_type": "code",
      "metadata": {
        "id": "8GCmGlFEM4j_",
        "colab_type": "code",
        "colab": {}
      },
      "source": [
        "import pandas as pd\n",
        "import numpy as np\n",
        "import matplotlib.pyplot as plt\n",
        "import seaborn as sns\n",
        "from sklearn.model_selection import train_test_split"
      ],
      "execution_count": 0,
      "outputs": []
    },
    {
      "cell_type": "code",
      "metadata": {
        "id": "7GdRuHTQMPdQ",
        "colab_type": "code",
        "colab": {}
      },
      "source": [
        "data_train=pd.read_csv('sales_train.csv.zip',compression='zip')\n",
        "data_test=pd.read_csv('test.csv.zip',compression='zip')\n",
        "data_shops=pd.read_csv('shops.csv')\n",
        "data_items=pd.read_csv('items.csv.zip',compression='zip')\n",
        "data_item_cat=pd.read_csv('item_categories.csv')"
      ],
      "execution_count": 0,
      "outputs": []
    },
    {
      "cell_type": "code",
      "metadata": {
        "id": "omY0hFM_-xI3",
        "colab_type": "code",
        "outputId": "01e2dfb1-954d-455c-f5fd-dd4ba7e1a0fe",
        "colab": {
          "base_uri": "https://localhost:8080/",
          "height": 419
        }
      },
      "source": [
        "data_item_cat"
      ],
      "execution_count": 0,
      "outputs": [
        {
          "output_type": "execute_result",
          "data": {
            "text/html": [
              "<div>\n",
              "<style scoped>\n",
              "    .dataframe tbody tr th:only-of-type {\n",
              "        vertical-align: middle;\n",
              "    }\n",
              "\n",
              "    .dataframe tbody tr th {\n",
              "        vertical-align: top;\n",
              "    }\n",
              "\n",
              "    .dataframe thead th {\n",
              "        text-align: right;\n",
              "    }\n",
              "</style>\n",
              "<table border=\"1\" class=\"dataframe\">\n",
              "  <thead>\n",
              "    <tr style=\"text-align: right;\">\n",
              "      <th></th>\n",
              "      <th>item_category_name</th>\n",
              "      <th>item_category_id</th>\n",
              "    </tr>\n",
              "  </thead>\n",
              "  <tbody>\n",
              "    <tr>\n",
              "      <th>0</th>\n",
              "      <td>PC - Гарнитуры/Наушники</td>\n",
              "      <td>0</td>\n",
              "    </tr>\n",
              "    <tr>\n",
              "      <th>1</th>\n",
              "      <td>Аксессуары - PS2</td>\n",
              "      <td>1</td>\n",
              "    </tr>\n",
              "    <tr>\n",
              "      <th>2</th>\n",
              "      <td>Аксессуары - PS3</td>\n",
              "      <td>2</td>\n",
              "    </tr>\n",
              "    <tr>\n",
              "      <th>3</th>\n",
              "      <td>Аксессуары - PS4</td>\n",
              "      <td>3</td>\n",
              "    </tr>\n",
              "    <tr>\n",
              "      <th>4</th>\n",
              "      <td>Аксессуары - PSP</td>\n",
              "      <td>4</td>\n",
              "    </tr>\n",
              "    <tr>\n",
              "      <th>...</th>\n",
              "      <td>...</td>\n",
              "      <td>...</td>\n",
              "    </tr>\n",
              "    <tr>\n",
              "      <th>79</th>\n",
              "      <td>Служебные</td>\n",
              "      <td>79</td>\n",
              "    </tr>\n",
              "    <tr>\n",
              "      <th>80</th>\n",
              "      <td>Служебные - Билеты</td>\n",
              "      <td>80</td>\n",
              "    </tr>\n",
              "    <tr>\n",
              "      <th>81</th>\n",
              "      <td>Чистые носители (шпиль)</td>\n",
              "      <td>81</td>\n",
              "    </tr>\n",
              "    <tr>\n",
              "      <th>82</th>\n",
              "      <td>Чистые носители (штучные)</td>\n",
              "      <td>82</td>\n",
              "    </tr>\n",
              "    <tr>\n",
              "      <th>83</th>\n",
              "      <td>Элементы питания</td>\n",
              "      <td>83</td>\n",
              "    </tr>\n",
              "  </tbody>\n",
              "</table>\n",
              "<p>84 rows × 2 columns</p>\n",
              "</div>"
            ],
            "text/plain": [
              "           item_category_name  item_category_id\n",
              "0     PC - Гарнитуры/Наушники                 0\n",
              "1            Аксессуары - PS2                 1\n",
              "2            Аксессуары - PS3                 2\n",
              "3            Аксессуары - PS4                 3\n",
              "4            Аксессуары - PSP                 4\n",
              "..                        ...               ...\n",
              "79                  Служебные                79\n",
              "80         Служебные - Билеты                80\n",
              "81    Чистые носители (шпиль)                81\n",
              "82  Чистые носители (штучные)                82\n",
              "83           Элементы питания                83\n",
              "\n",
              "[84 rows x 2 columns]"
            ]
          },
          "metadata": {
            "tags": []
          },
          "execution_count": 8
        }
      ]
    },
    {
      "cell_type": "code",
      "metadata": {
        "id": "HobJeYoeBvr6",
        "colab_type": "code",
        "outputId": "0d7387b3-4d49-4357-ae79-e99154414c53",
        "colab": {
          "base_uri": "https://localhost:8080/",
          "height": 139
        }
      },
      "source": [
        "data_train[data_train.item_cnt_day<0]['item_cnt_day'] = 0"
      ],
      "execution_count": 0,
      "outputs": [
        {
          "output_type": "stream",
          "text": [
            "/usr/local/lib/python3.6/dist-packages/ipykernel_launcher.py:1: SettingWithCopyWarning: \n",
            "A value is trying to be set on a copy of a slice from a DataFrame.\n",
            "Try using .loc[row_indexer,col_indexer] = value instead\n",
            "\n",
            "See the caveats in the documentation: http://pandas.pydata.org/pandas-docs/stable/user_guide/indexing.html#returning-a-view-versus-a-copy\n",
            "  \"\"\"Entry point for launching an IPython kernel.\n"
          ],
          "name": "stderr"
        }
      ]
    },
    {
      "cell_type": "code",
      "metadata": {
        "id": "gJUkCNLhMFDO",
        "colab_type": "code",
        "colab": {}
      },
      "source": [
        "data_train=pd.merge(data_train,data_items,on='item_id',how='inner')"
      ],
      "execution_count": 0,
      "outputs": []
    },
    {
      "cell_type": "code",
      "metadata": {
        "id": "vRCrFZyeVecO",
        "colab_type": "code",
        "outputId": "091177e2-17fb-4205-8a8f-7bdcec5f09ec",
        "colab": {
          "base_uri": "https://localhost:8080/",
          "height": 560
        }
      },
      "source": [
        "plt.figure(figsize=(10,4))\n",
        "sns.boxplot(x=data_train['item_price'])\n",
        "\n",
        "plt.figure(figsize=(10,4))\n",
        "sns.boxplot(x=data_train['item_cnt_day'])"
      ],
      "execution_count": 0,
      "outputs": [
        {
          "output_type": "execute_result",
          "data": {
            "text/plain": [
              "<matplotlib.axes._subplots.AxesSubplot at 0x7f1ee0106f28>"
            ]
          },
          "metadata": {
            "tags": []
          },
          "execution_count": 12
        },
        {
          "output_type": "display_data",
          "data": {
            "image/png": "[encoded data removed]",
            "text/plain": [
              "<Figure size 720x288 with 1 Axes>"
            ]
          },
          "metadata": {
            "tags": []
          }
        },
        {
          "output_type": "display_data",
          "data": {
            "image/png": "[encoded data removed]",
            "text/plain": [
              "<Figure size 720x288 with 1 Axes>"
            ]
          },
          "metadata": {
            "tags": []
          }
        }
      ]
    },
    {
      "cell_type": "code",
      "metadata": {
        "id": "VVGqaQfSVfZa",
        "colab_type": "code",
        "colab": {}
      },
      "source": [
        "#clipping the training-data\n",
        "data_train=data_train[data_train.item_price<100000]\n",
        "data_train=data_train[data_train.item_cnt_day<1001]"
      ],
      "execution_count": 0,
      "outputs": []
    },
    {
      "cell_type": "code",
      "metadata": {
        "id": "ujxD5PA4TBtr",
        "colab_type": "code",
        "colab": {}
      },
      "source": [
        "#date,month,dayofweek\n",
        "def get_date(data):\n",
        "  data['date']=pd.to_datetime(data['date'],format='%d.%m.%Y')\n",
        "  data['month']=data['date'].dt.month\n",
        "  data['day']=data['date'].dt.day\n",
        "  data['weekday']=data['date'].dt.dayofweek\n",
        "  return data\n",
        "data_train=get_date(data_train)"
      ],
      "execution_count": 0,
      "outputs": []
    },
    {
      "cell_type": "code",
      "metadata": {
        "id": "f6hlrpXuJZDL",
        "colab_type": "code",
        "outputId": "b765e749-e470-4338-ff13-d23cbfce2fa2",
        "colab": {
          "base_uri": "https://localhost:8080/",
          "height": 122
        }
      },
      "source": [
        "#first word of every shop represents city in which it is located\n",
        "data_shops['shop_cat']=\"\"\n",
        "for i in range(0,len(data_shops['shop_name'])):\n",
        "  for j in range(0,len(data_shops['shop_name'][i])):\n",
        "    if data_shops['shop_name'][i][j]==\" \":\n",
        "      data_shops['shop_cat'][i] = data_shops['shop_name'][i][:j]   \n",
        "      break"
      ],
      "execution_count": 0,
      "outputs": [
        {
          "output_type": "stream",
          "text": [
            "/usr/local/lib/python3.6/dist-packages/ipykernel_launcher.py:5: SettingWithCopyWarning: \n",
            "A value is trying to be set on a copy of a slice from a DataFrame\n",
            "\n",
            "See the caveats in the documentation: http://pandas.pydata.org/pandas-docs/stable/user_guide/indexing.html#returning-a-view-versus-a-copy\n",
            "  \"\"\"\n"
          ],
          "name": "stderr"
        }
      ]
    },
    {
      "cell_type": "code",
      "metadata": {
        "id": "i4xpOife459C",
        "colab_type": "code",
        "colab": {}
      },
      "source": [
        "#label encoding shop-categories\n",
        "from sklearn.preprocessing import LabelEncoder\n",
        "label=LabelEncoder()\n",
        "data_shops['shop_cat']=label.fit_transform(data_shops['shop_cat'])\n",
        "\n",
        "#combining test and training data for processing both simultaneously.\n",
        "data_combined=pd.concat([data_train[['item_id','shop_id','date_block_num']],data_test[['item_id','shop_id']]],ignore_index=False,sort=False)\n",
        "data_combined.replace(np.nan,34,inplace=True)\n",
        "data_combined=pd.merge(data_combined,data_shops[['shop_id','shop_cat']],on='shop_id',how='outer')"
      ],
      "execution_count": 0,
      "outputs": []
    },
    {
      "cell_type": "code",
      "metadata": {
        "id": "SaQvmnY3jUvX",
        "colab_type": "code",
        "colab": {}
      },
      "source": [
        "#first sale month of each item and differnce in months.\n",
        "data=data_train.groupby('item_id').agg(start_date=('date',min)).reset_index()\n",
        "data['start_month']=(data['start_date'].dt.month)-1\n",
        "data_combined=pd.merge(data_combined,data[['start_month','item_id']],on='item_id',how='outer')\n",
        "data_combined['month_diff']=data_combined['date_block_num']-data_combined['start_month']"
      ],
      "execution_count": 0,
      "outputs": []
    },
    {
      "cell_type": "code",
      "metadata": {
        "id": "K9UVjUrgtZGS",
        "colab_type": "code",
        "colab": {}
      },
      "source": [
        "#total items sold in each shop of particular item-id\n",
        "data=data_train[['shop_id','item_id','item_cnt_day']].groupby(['item_id','shop_id']).agg(total_item_cnt_per_shop=('item_cnt_day',sum)).reset_index()\n",
        "data_combined=pd.merge(data_combined,data,on=['item_id','shop_id'],how='outer')"
      ],
      "execution_count": 0,
      "outputs": []
    },
    {
      "cell_type": "code",
      "metadata": {
        "id": "kzvIY4O1cacb",
        "colab_type": "code",
        "colab": {}
      },
      "source": [
        "#separating item category type and subtype\n",
        "data_item_cat['item_cat_type']=data_item_cat['item_category_name'].str.split('-').map(lambda x: x[0])\n",
        "data_item_cat['item_cat_subtype']=data_item_cat['item_category_name'].str.split('-').map(lambda x: x[-1])\n",
        "data_item_cat=data_item_cat[['item_category_id','item_cat_type','item_cat_subtype']]"
      ],
      "execution_count": 0,
      "outputs": []
    },
    {
      "cell_type": "code",
      "metadata": {
        "id": "6rC7GZFF1ld_",
        "colab_type": "code",
        "colab": {}
      },
      "source": [
        "# data=data_train[['month','shop_id','item_id','item_cnt_day']].groupby(['month','item_id','shop_id']).mean().reset_index().sort_values(['month','item_id'],ascending=True)\n",
        "# data=pd.merge(data,shops[['shop_id','shop_cat']],how='inner',on='shop_id')\n",
        "# data=pd.merge(data,data_items,how='inner',on='item_id')\n",
        "# data=data.drop('item_name',axis=1)\n",
        "# data.rename(columns={'item_cnt_day':'item_cnt_month'},inplace=True)"
      ],
      "execution_count": 0,
      "outputs": []
    },
    {
      "cell_type": "code",
      "metadata": {
        "id": "fCZwDYvQS5N0",
        "colab_type": "code",
        "colab": {}
      },
      "source": [
        "# def get_price_block(data):\n",
        "#   bins=(0,200,400,900,350000)\n",
        "#   labels=[0,1,2,3]\n",
        "#   categories=pd.cut(data.item_price ,bins ,labels=labels)\n",
        "#   data['price_block']=categories\n",
        "#   return data\n",
        "# data=get_price_block(data)\n",
        "# data['price_block']=data['price_block'].astype('int64')"
      ],
      "execution_count": 0,
      "outputs": []
    },
    {
      "cell_type": "code",
      "metadata": {
        "id": "VBFg30iXFggW",
        "colab_type": "code",
        "colab": {}
      },
      "source": [
        "# def get_demand(data):\n",
        "#   bins=(0,1,5,10,15,30,60)\n",
        "#   labels=[0,1,2,3,4,5]\n",
        "#   categories=pd.cut(data.item_cnt_month, bins, labels=labels)\n",
        "#   data['demand']=categories\n",
        "#   return data\n",
        "# data=get_demand(data)"
      ],
      "execution_count": 0,
      "outputs": []
    },
    {
      "cell_type": "code",
      "metadata": {
        "id": "ZT0QKyrAW4ol",
        "colab_type": "code",
        "colab": {}
      },
      "source": [
        "#average price of particular item\n",
        "data=data_train[['item_price','item_id','month']].groupby('item_id').agg(item_price_avg=('item_price','mean'),month=('month','mean')).reset_index()\n",
        "data_combined=pd.merge(data_combined,data,on='item_id',how='outer')\n",
        "data_items=pd.merge(data_items[['item_id','item_category_id']],data_item_cat,on='item_category_id',how='inner')\n",
        "data_combined=pd.merge(data_combined,data_items,on='item_id',how='inner')\n",
        "data_combined['month']=round(data_combined['month'])"
      ],
      "execution_count": 0,
      "outputs": []
    },
    {
      "cell_type": "code",
      "metadata": {
        "id": "Oih8FKmIF38h",
        "colab_type": "code",
        "colab": {}
      },
      "source": [
        "#label encoding item category\n",
        "data_combined['item_cat_type']=label.fit_transform(data_combined['item_cat_type'])\n",
        "data_combined['item_cat_subtype']=label.fit_transform(data_combined['item_cat_subtype'])"
      ],
      "execution_count": 0,
      "outputs": []
    },
    {
      "cell_type": "code",
      "metadata": {
        "id": "fAJ0mEGKGgkH",
        "colab_type": "code",
        "colab": {}
      },
      "source": [
        "#for null entries in item_cnt_per_shop\n",
        "data=data_combined[data_combined.isna().any(axis=1)]\n",
        "data_1=data_combined[['total_item_cnt_per_shop','item_category_id']].dropna()\n",
        "data_1=data_1.groupby('item_category_id').mean().reset_index()\n",
        "data=data.drop('total_item_cnt_per_shop',axis=1)\n",
        "data=pd.merge(data,data_1,on='item_category_id',how='inner')\n",
        "data['total_item_cnt_per_shop']=round(data['total_item_cnt_per_shop'],0)"
      ],
      "execution_count": 0,
      "outputs": []
    },
    {
      "cell_type": "code",
      "metadata": {
        "id": "4zYS54U78mUo",
        "colab_type": "code",
        "outputId": "8a3d3762-21aa-483d-89d5-ee03c52211cb",
        "colab": {
          "base_uri": "https://localhost:8080/",
          "height": 122
        }
      },
      "source": [
        "#for null entries in start_month\n",
        "data_1=data[data.isna().any(axis=1)]\n",
        "data_2=data_combined[['start_month','item_category_id','item_price_avg','month']].dropna()\n",
        "data_2=data_2.groupby('item_category_id').mean().reset_index()\n",
        "data_1.drop(['start_month','item_price_avg','month'],axis=1,inplace=True)\n",
        "data_1=pd.merge(data_1,data_2,on='item_category_id',how='inner')\n",
        "data_1['start_month']=round(data_1['start_month'])\n",
        "data_1['item_price_avg']=round(data_1['item_price_avg'])\n",
        "data_1['month']=round(data_1['month'])\n",
        "data_1['month_diff']=data_1['date_block_num']-data_1['start_month']"
      ],
      "execution_count": 0,
      "outputs": [
        {
          "output_type": "stream",
          "text": [
            "/usr/local/lib/python3.6/dist-packages/pandas/core/frame.py:4117: SettingWithCopyWarning: \n",
            "A value is trying to be set on a copy of a slice from a DataFrame\n",
            "\n",
            "See the caveats in the documentation: http://pandas.pydata.org/pandas-docs/stable/user_guide/indexing.html#returning-a-view-versus-a-copy\n",
            "  errors=errors,\n"
          ],
          "name": "stderr"
        }
      ]
    },
    {
      "cell_type": "code",
      "metadata": {
        "id": "TmcqQayfAq9u",
        "colab_type": "code",
        "colab": {}
      },
      "source": [
        "#combining data\n",
        "data=data.dropna()\n",
        "data=pd.concat([data,data_1],axis=0,sort=False)\n",
        "data_combined=data_combined.dropna()\n",
        "data_combined=pd.concat([data_combined,data],axis=0,sort=False)"
      ],
      "execution_count": 0,
      "outputs": []
    },
    {
      "cell_type": "code",
      "metadata": {
        "id": "0S1aOHeIDDfj",
        "colab_type": "code",
        "colab": {}
      },
      "source": [
        "# data_train[(data_train.item_cnt_day<1)&(data_train.month==11)]['item_cnt_day'].value_counts()"
      ],
      "execution_count": 0,
      "outputs": []
    },
    {
      "cell_type": "code",
      "metadata": {
        "id": "nvDDb8vFcQGy",
        "colab_type": "code",
        "colab": {}
      },
      "source": [
        "# price_train=pd.get_dummies(data['price_block'],prefix='price')\n",
        "# price_test=pd.get_dummies(data_test['price_block'],prefix='price')\n",
        "# data=pd.concat([data,price_train],axis=1)\n",
        "# data_test=pd.concat([data_test,price_test],axis=1)"
      ],
      "execution_count": 0,
      "outputs": []
    },
    {
      "cell_type": "code",
      "metadata": {
        "id": "sg46jnBmfbbQ",
        "colab_type": "code",
        "colab": {}
      },
      "source": [
        "# data=data.drop('price_block',axis=1)\n",
        "# data_test=data_test.drop('price_block',axis=1)"
      ],
      "execution_count": 0,
      "outputs": []
    },
    {
      "cell_type": "code",
      "metadata": {
        "id": "A8xb_RVZNVGh",
        "colab_type": "code",
        "colab": {}
      },
      "source": [
        "X_train=data_combined[data_combined.date_block_num<33]\n",
        "X_valid=data_combined[data_combined.date_block_num==33]\n",
        "X_test=data_combined[data_combined.date_block_num==34]\n",
        "y_train=data_train[data_train.date_block_num<33]['item_cnt_day']\n",
        "y_valid=data_train[data_train.date_block_num==33]['item_cnt_day']"
      ],
      "execution_count": 0,
      "outputs": []
    },
    {
      "cell_type": "code",
      "metadata": {
        "colab_type": "code",
        "id": "-ZpnM8EAIsqW",
        "colab": {}
      },
      "source": [
        "# from sklearn.svm import SVR\n",
        "# support=SVR(kernel='linear')\n",
        "# support.fit(X_train[:1000],y_train[:1000])"
      ],
      "execution_count": 0,
      "outputs": []
    },
    {
      "cell_type": "code",
      "metadata": {
        "id": "hOr09NYrO5IS",
        "colab_type": "code",
        "outputId": "a074485b-cb37-4adc-8145-0340feac5f3e",
        "colab": {
          "base_uri": "https://localhost:8080/",
          "height": 275
        }
      },
      "source": [
        "import xgboost as xgb\n",
        "\n",
        "dtrain=xgb.DMatrix(data=X_train,label=y_train)\n",
        "dtest=xgb.DMatrix(data=X_test)\n",
        "dvalid=xgb.DMatrix(data=X_valid,label=y_valid)\n",
        "param=dict(objective='reg:squarederror',eval_metric='rmse',max_depth=5,verbosity=1,eta=0.1,min_child_weight=50)\n",
        "watchlist = [( dtrain, 'train'),( dvalid, 'valid')]\n",
        "model=xgb.train(param,dtrain,100,watchlist,early_stopping_rounds=10,verbose_eval=10)"
      ],
      "execution_count": 0,
      "outputs": [
        {
          "output_type": "stream",
          "text": [
            "/usr/local/lib/python3.6/dist-packages/xgboost/core.py:587: FutureWarning: Series.base is deprecated and will be removed in a future version\n",
            "  if getattr(data, 'base', None) is not None and \\\n",
            "/usr/local/lib/python3.6/dist-packages/xgboost/core.py:588: FutureWarning: Series.base is deprecated and will be removed in a future version\n",
            "  data.base is not None and isinstance(data, np.ndarray) \\\n"
          ],
          "name": "stderr"
        },
        {
          "output_type": "stream",
          "text": [
            "[0]\ttrain-rmse:2.36914\tvalid-rmse:2.85957\n",
            "Multiple eval metrics have been passed: 'valid-rmse' will be used for early stopping.\n",
            "\n",
            "Will train until valid-rmse hasn't improved in 10 rounds.\n",
            "[10]\ttrain-rmse:2.24347\tvalid-rmse:2.78649\n",
            "[20]\ttrain-rmse:2.21776\tvalid-rmse:2.77894\n",
            "[30]\ttrain-rmse:2.2093\tvalid-rmse:2.77892\n",
            "Stopping. Best iteration:\n",
            "[24]\ttrain-rmse:2.21342\tvalid-rmse:2.7781\n",
            "\n"
          ],
          "name": "stdout"
        }
      ]
    },
    {
      "cell_type": "code",
      "metadata": {
        "id": "FhQTh2g8QkMd",
        "colab_type": "code",
        "colab": {}
      },
      "source": [
        "# from sklearn.metrics import mean_squared_error\n",
        "# prediction_valid=model.predict(dvalid)\n",
        "# print(\"ERROR:{}\".format(np.sqrt(mean_squared_error(prediction_valid,y_valid))))"
      ],
      "execution_count": 0,
      "outputs": []
    },
    {
      "cell_type": "code",
      "metadata": {
        "id": "jqBz9zvkDPkE",
        "colab_type": "code",
        "outputId": "4124fff6-e54f-4a6d-a725-68924bf3c078",
        "colab": {
          "base_uri": "https://localhost:8080/",
          "height": 170
        }
      },
      "source": [
        "model.get_fscore()"
      ],
      "execution_count": 0,
      "outputs": [
        {
          "output_type": "execute_result",
          "data": {
            "text/plain": [
              "{'date_block_num': 74,\n",
              " 'item_cat_subtype': 50,\n",
              " 'item_category_id': 51,\n",
              " 'item_id': 256,\n",
              " 'item_price_avg': 208,\n",
              " 'month_diff': 14,\n",
              " 'shop_id': 58,\n",
              " 'start_month': 121,\n",
              " 'total_item_cnt_per_shop': 189}"
            ]
          },
          "metadata": {
            "tags": []
          },
          "execution_count": 162
        }
      ]
    },
    {
      "cell_type": "code",
      "metadata": {
        "id": "Uwg7oknhSB3P",
        "colab_type": "code",
        "colab": {}
      },
      "source": [
        "prediction_test=model.predict(dtest)\n",
        "my_submission=pd.DataFrame(data={'ID':data_test.ID.values,'item_cnt_month':prediction_test})"
      ],
      "execution_count": 0,
      "outputs": []
    },
    {
      "cell_type": "code",
      "metadata": {
        "id": "saajhHgQS4Sm",
        "colab_type": "code",
        "colab": {}
      },
      "source": [
        "my_submission.to_csv('submission.csv',index=False)"
      ],
      "execution_count": 0,
      "outputs": []
    },
    {
      "cell_type": "code",
      "metadata": {
        "id": "ajGiJ-Zr4eCQ",
        "colab_type": "code",
        "outputId": "7b32b279-6368-42b9-cdc4-65f543d55f21",
        "colab": {
          "base_uri": "https://localhost:8080/",
          "height": 105
        }
      },
      "source": [
        "!kaggle competitions submit -c competitive-data-science-predict-future-sales -f submission.csv -m \"Message\""
      ],
      "execution_count": 0,
      "outputs": [
        {
          "output_type": "stream",
          "text": [
            "Warning: Your Kaggle API key is readable by other users on this system! To fix this, you can run 'chmod 600 /root/.kaggle/kaggle.json'\n",
            "Warning: Looks like you're using an outdated API Version, please consider updating (server 1.5.6 / client 1.5.4)\n",
            "100% 3.34M/3.34M [00:00<00:00, 7.54MB/s]\n",
            "Successfully submitted to Predict Future Sales"
          ],
          "name": "stdout"
        }
      ]
    }
  ]
}